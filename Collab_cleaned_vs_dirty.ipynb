{
  "cells": [
    {
      "cell_type": "code",
      "execution_count": null,
      "metadata": {
        "id": "9BuSIOwYYXVq",
        "outputId": "8e8b619a-abef-49f6-8eff-81c76add6f1f"
      },
      "outputs": [
        {
          "name": "stdout",
          "output_type": "stream",
          "text": [
            "Requirement already satisfied: kaggle in /Users/vadim/.local/lib/python3.12/site-packages (1.6.17)\n",
            "Requirement already satisfied: six>=1.10 in /opt/anaconda3/lib/python3.12/site-packages (from kaggle) (1.16.0)\n",
            "Requirement already satisfied: certifi>=2023.7.22 in /opt/anaconda3/lib/python3.12/site-packages (from kaggle) (2024.8.30)\n",
            "Requirement already satisfied: python-dateutil in /opt/anaconda3/lib/python3.12/site-packages (from kaggle) (2.9.0.post0)\n",
            "Requirement already satisfied: requests in /opt/anaconda3/lib/python3.12/site-packages (from kaggle) (2.32.2)\n",
            "Requirement already satisfied: tqdm in /opt/anaconda3/lib/python3.12/site-packages (from kaggle) (4.66.4)\n",
            "Requirement already satisfied: python-slugify in /opt/anaconda3/lib/python3.12/site-packages (from kaggle) (5.0.2)\n",
            "Requirement already satisfied: urllib3 in /opt/anaconda3/lib/python3.12/site-packages (from kaggle) (2.2.2)\n",
            "Requirement already satisfied: bleach in /opt/anaconda3/lib/python3.12/site-packages (from kaggle) (4.1.0)\n",
            "Requirement already satisfied: packaging in /opt/anaconda3/lib/python3.12/site-packages (from bleach->kaggle) (23.2)\n",
            "Requirement already satisfied: webencodings in /opt/anaconda3/lib/python3.12/site-packages (from bleach->kaggle) (0.5.1)\n",
            "Requirement already satisfied: text-unidecode>=1.3 in /opt/anaconda3/lib/python3.12/site-packages (from python-slugify->kaggle) (1.3)\n",
            "Requirement already satisfied: charset-normalizer<4,>=2 in /opt/anaconda3/lib/python3.12/site-packages (from requests->kaggle) (2.0.4)\n",
            "Requirement already satisfied: idna<4,>=2.5 in /opt/anaconda3/lib/python3.12/site-packages (from requests->kaggle) (3.7)\n"
          ]
        }
      ],
      "source": [
        "!pip3 install --user kaggle"
      ]
    },
    {
      "cell_type": "code",
      "execution_count": 1,
      "metadata": {
        "id": "43gcFai-YXVs"
      },
      "outputs": [],
      "source": [
        "!unzip -q ./plates.zip"
      ]
    },
    {
      "cell_type": "code",
      "source": [
        "train_on_gpu = torch.cuda.is_available()\n",
        "\n",
        "if not train_on_gpu:\n",
        "    print('CUDA is not available.  Training on CPU ...')\n",
        "else:\n",
        "    print('CUDA is available!  Training on GPU ...')"
      ],
      "metadata": {
        "colab": {
          "base_uri": "https://localhost:8080/"
        },
        "id": "2NM_ODwFZmnC",
        "outputId": "f9588217-873b-4bdd-ed59-d60de7e6a200"
      },
      "execution_count": 22,
      "outputs": [
        {
          "output_type": "stream",
          "name": "stdout",
          "text": [
            "CUDA is available!  Training on GPU ...\n"
          ]
        }
      ]
    },
    {
      "cell_type": "code",
      "execution_count": 86,
      "metadata": {
        "colab": {
          "base_uri": "https://localhost:8080/",
          "height": 54
        },
        "id": "rjTivauvYXVt",
        "outputId": "e73b12d8-9f24-4c3d-ea54-2caf534a2726"
      },
      "outputs": [
        {
          "output_type": "execute_result",
          "data": {
            "text/plain": [
              "' \\n    Вместо этого, каждый раз, когда вы загружаете изображение, \\n    к нему применяются случайные преобразования \\n    (например, поворот, отражение, изменение цвета и т.д.).\\n'"
            ],
            "application/vnd.google.colaboratory.intrinsic+json": {
              "type": "string"
            }
          },
          "metadata": {},
          "execution_count": 86
        }
      ],
      "source": [
        "import torch\n",
        "from torchvision import datasets, transforms, models\n",
        "from torch.utils.data import DataLoader, Dataset, Subset\n",
        "from sklearn.model_selection import train_test_split\n",
        "train_path = './plates/train'\n",
        "test_path = './plates/test'\n",
        "\n",
        "'''\n",
        "    Вместо этого, каждый раз, когда вы загружаете изображение,\n",
        "    к нему применяются случайные преобразования\n",
        "    (например, поворот, отражение, изменение цвета и т.д.).\n",
        "'''\n",
        "\n",
        "# train_transforms = transforms.Compose([\n",
        "#     transforms.RandomResizedCrop(244),\n",
        "#     transforms.RandomHorizontalFlip(),\n",
        "#     transforms.RandomRotation(25),\n",
        "#     transforms.ColorJitter(brightness=0.2, contrast=0.2, saturation=0.2),\n",
        "#     transforms.ToTensor(),\n",
        "#     transforms.Normalize(mean=[0.485, 0.456, 0.406], std=[0.229, 0.224, 0.225])\n",
        "# ])"
      ]
    },
    {
      "cell_type": "code",
      "execution_count": 136,
      "metadata": {
        "colab": {
          "base_uri": "https://localhost:8080/"
        },
        "id": "oQDmn9mwYXVu",
        "outputId": "c0e00f77-47eb-4eb8-e660-5fd6d03acd17"
      },
      "outputs": [
        {
          "output_type": "stream",
          "name": "stdout",
          "text": [
            "Found existing installation: image 1.5.33\n",
            "Uninstalling image-1.5.33:\n",
            "  Would remove:\n",
            "    /usr/local/lib/python3.11/dist-packages/image-1.5.33.dist-info/*\n",
            "    /usr/local/lib/python3.11/dist-packages/image/*\n",
            "Proceed (Y/n)? Y\n",
            "  Successfully uninstalled image-1.5.33\n",
            "Collecting Image\n",
            "  Using cached image-1.5.33-py2.py3-none-any.whl\n",
            "Requirement already satisfied: pillow in /usr/local/lib/python3.11/dist-packages (from Image) (11.1.0)\n",
            "Requirement already satisfied: django in /usr/local/lib/python3.11/dist-packages (from Image) (5.1.6)\n",
            "Requirement already satisfied: six in /usr/local/lib/python3.11/dist-packages (from Image) (1.17.0)\n",
            "Requirement already satisfied: asgiref<4,>=3.8.1 in /usr/local/lib/python3.11/dist-packages (from django->Image) (3.8.1)\n",
            "Requirement already satisfied: sqlparse>=0.3.1 in /usr/local/lib/python3.11/dist-packages (from django->Image) (0.5.3)\n",
            "Installing collected packages: Image\n",
            "Successfully installed Image-1.5.33\n"
          ]
        }
      ],
      "source": [
        "!pip3 uninstall Image\n",
        "!pip3 install Image"
      ]
    },
    {
      "cell_type": "code",
      "execution_count": 141,
      "metadata": {
        "id": "SxKFGFC-YXVu"
      },
      "outputs": [],
      "source": [
        "import os\n",
        "from PIL import Image\n",
        "\n",
        "train_transform = transforms.RandomChoice([\n",
        "    transforms.Compose([\n",
        "    transforms.CenterCrop(200),\n",
        "    transforms.Resize((224,224)),\n",
        "    transforms.ToTensor(),\n",
        "    transforms.Normalize([0.485, 0.456, 0.406], [0.229, 0.224, 0.225])]),\n",
        "\n",
        "    transforms.Compose([\n",
        "    transforms.CenterCrop(200),\n",
        "    transforms.Resize((224,224)),\n",
        "    transforms.ColorJitter(brightness=0.5, contrast=0.5, saturation=0.5, hue=0.2),\n",
        "    transforms.RandomHorizontalFlip(),\n",
        "    transforms.ToTensor(),\n",
        "    transforms.Normalize([0.485, 0.456, 0.406], [0.229, 0.224, 0.225])]),\n",
        "\n",
        "    transforms.Compose([\n",
        "    transforms.CenterCrop(200),\n",
        "    transforms.Resize((224,224)),\n",
        "    transforms.RandomOrder([\n",
        "    transforms.RandomHorizontalFlip(),\n",
        "    transforms.RandomVerticalFlip(),\n",
        "        ]),\n",
        "    transforms.ToTensor(),\n",
        "    transforms.Normalize([0.485, 0.456, 0.406], [0.229, 0.224, 0.225])]),\n",
        "\n",
        "    transforms.Compose([\n",
        "    transforms.CenterCrop(200),\n",
        "    transforms.Resize((224,224)),\n",
        "    transforms.ToTensor(),\n",
        "    transforms.Normalize([0.485, 0.456, 0.406], [0.229, 0.224, 0.225])]),\n",
        "\n",
        "    transforms.Compose([\n",
        "    transforms.RandomRotation(45),\n",
        "    transforms.CenterCrop(200),\n",
        "    transforms.Resize((224,224)),\n",
        "    transforms.ToTensor(),\n",
        "    transforms.Normalize([0.485, 0.456, 0.406], [0.229, 0.224, 0.225])]),\n",
        "\n",
        "    transforms.Compose([\n",
        "    transforms.CenterCrop(200),\n",
        "    transforms.Resize((224,224)),\n",
        "    transforms.RandomGrayscale(p=1),\n",
        "    transforms.RandomOrder([\n",
        "    transforms.RandomHorizontalFlip(),\n",
        "    transforms.RandomVerticalFlip(),\n",
        "        ]),\n",
        "    transforms.ToTensor(),\n",
        "    transforms.Normalize([0.485, 0.456, 0.406], [0.229, 0.224, 0.225])]),\n",
        "\n",
        "    transforms.Compose([\n",
        "    transforms.CenterCrop(200),\n",
        "    transforms.Resize((224,224)),\n",
        "    transforms.ColorJitter(brightness=0.2, contrast=0.4, saturation=0.4, hue=0.4),\n",
        "    transforms.RandomVerticalFlip(),\n",
        "    transforms.ToTensor(),\n",
        "    transforms.Normalize([0.485, 0.456, 0.406], [0.229, 0.224, 0.225])])\n",
        "\n",
        "])\n",
        "\n",
        "test_transform = transforms.Compose([\n",
        "    transforms.Resize(256),\n",
        "    transforms.CenterCrop(224),\n",
        "    transforms.ToTensor(),\n",
        "    transforms.Normalize(mean=[0.485, 0.456, 0.406], std=[0.229, 0.224, 0.225])\n",
        "])\n",
        "\n",
        "val_transform = transforms.RandomChoice([\n",
        "    transforms.Compose([\n",
        "        transforms.RandomRotation(degrees = 20),\n",
        "        transforms.Resize((224,224)),\n",
        "        transforms.ToTensor(),\n",
        "        transforms.Normalize([0.485, 0.456, 0.406], [0.229, 0.224, 0.225])\n",
        "    ]),\n",
        "\n",
        "    transforms.Compose([\n",
        "        transforms.RandomRotation(degrees = 40),\n",
        "        transforms.Resize((224,224)),\n",
        "        transforms.ToTensor(),\n",
        "        transforms.Normalize([0.485, 0.456, 0.406], [0.229, 0.224, 0.225])\n",
        "    ]),\n",
        "\n",
        "    transforms.Compose([\n",
        "        transforms.RandomRotation(degrees = 60),\n",
        "        transforms.Resize((224,224)),\n",
        "        transforms.ToTensor(),\n",
        "        transforms.Normalize([0.485, 0.456, 0.406], [0.229, 0.224, 0.225])\n",
        "    ]),\n",
        "\n",
        "    transforms.Compose([\n",
        "        transforms.RandomPerspective(distortion_scale=0.2, p=0.1, interpolation=3, fill=255),\n",
        "        transforms.Resize((224,224)),\n",
        "        transforms.ToTensor(),\n",
        "        transforms.Normalize([0.485, 0.456, 0.406], [0.229, 0.224, 0.225])\n",
        "    ]),\n",
        "\n",
        "    transforms.Compose([\n",
        "        transforms.RandomOrder([\n",
        "            transforms.RandomHorizontalFlip(),\n",
        "            transforms.RandomVerticalFlip(),\n",
        "        ]),\n",
        "        transforms.Resize((224,224)),\n",
        "        transforms.CenterCrop(200),\n",
        "        transforms.Resize((224,224)),\n",
        "        transforms.ToTensor(),\n",
        "        transforms.Normalize([0.485, 0.456, 0.406], [0.229, 0.224, 0.225])\n",
        "    ]),\n",
        "\n",
        "    transforms.Compose([\n",
        "        transforms.RandomOrder([\n",
        "            transforms.RandomHorizontalFlip(),\n",
        "            transforms.RandomVerticalFlip(),\n",
        "        ]),\n",
        "        transforms.Resize((224,224)),\n",
        "        transforms.ToTensor(),\n",
        "        transforms.Normalize([0.485, 0.456, 0.406], [0.229, 0.224, 0.225])\n",
        "    ]),\n",
        "\n",
        "    transforms.Compose([\n",
        "        transforms.Resize((224,224)),\n",
        "        transforms.CenterCrop(200),\n",
        "        transforms.Resize((224,224)),\n",
        "        transforms.ToTensor(),\n",
        "        transforms.Normalize([0.485, 0.456, 0.406], [0.229, 0.224, 0.225])\n",
        "    ]),\n",
        "\n",
        "    transforms.Compose([\n",
        "        transforms.Resize((224,224)),\n",
        "        transforms.ToTensor(),\n",
        "        transforms.Normalize([0.485, 0.456, 0.406], [0.229, 0.224, 0.225])\n",
        "    ])\n",
        "])\n",
        "\n",
        "\n",
        "full_dataset = datasets.ImageFolder(train_path, transform=train_transform)\n",
        "\n",
        "train_files, val_files = train_test_split(\n",
        "    range(len(full_dataset)), test_size=0.2, random_state=42, stratify=full_dataset.targets\n",
        ")\n",
        "\n",
        "train_dataset = Subset(full_dataset, train_files)\n",
        "val_dataset = Subset(full_dataset, val_files)\n",
        "\n",
        "train_loader = DataLoader(train_dataset, batch_size=128, shuffle=True)\n",
        "val_loader = DataLoader(val_dataset, batch_size=128, shuffle=True)\n",
        "len(train_dataset), len(val_dataset)\n",
        "\n",
        "class TestDataset(Dataset):\n",
        "    def __init__(self, dir, transform = None):\n",
        "        self.dir = dir\n",
        "        self.transform = transform\n",
        "        self.image_files = [os.path.join(dir, f) for f in os.listdir(dir) if f.endswith(('jpg', 'png', 'jpeg'))]\n",
        "\n",
        "    def __len__(self):\n",
        "        return len(self.image_files)\n",
        "\n",
        "    def __getitem__(self, index):\n",
        "        img_path = self.image_files[index]\n",
        "        img = Image.open(img_path).convert('RGB')\n",
        "        if self.transform:\n",
        "            img = self.transform(img)\n",
        "        return img, os.path.basename(img_path)\n",
        "\n",
        "test_dataset = TestDataset(test_path, test_transform)\n",
        "test_loader = DataLoader(test_dataset, 64, shuffle=False)"
      ]
    },
    {
      "cell_type": "code",
      "execution_count": 119,
      "metadata": {
        "id": "uUfAEC62YXVw"
      },
      "outputs": [],
      "source": [
        "DEVICE = torch.device(\"cuda\")"
      ]
    },
    {
      "cell_type": "code",
      "execution_count": 120,
      "metadata": {
        "id": "Htfu77kiYXVx"
      },
      "outputs": [],
      "source": [
        "def fit_epoch(model, train_loader, optimizer, crtiterion):\n",
        "    model.train()\n",
        "    running_loss = 0.0\n",
        "    running_corrects = 0\n",
        "    processed_size = 0\n",
        "    processed_data = 0\n",
        "    for x_batch, y_batch in train_loader:\n",
        "        x_batch, y_batch = x_batch.to(DEVICE), y_batch.to(DEVICE)\n",
        "\n",
        "        out = model(x_batch)\n",
        "        loss = crtiterion(out, y_batch)\n",
        "        optimizer.zero_grad()\n",
        "        loss.backward()\n",
        "        optimizer.step()\n",
        "\n",
        "        preds = torch.argmax(out, 1)\n",
        "        running_loss += loss.item() * x_batch.size(0)\n",
        "        running_corrects += torch.sum(preds == y_batch.data)\n",
        "        processed_data += x_batch.size(0)\n",
        "    train_loss = running_loss / processed_data\n",
        "    train_acc = running_corrects.cpu().numpy() / processed_data\n",
        "    return train_loss, train_acc\n",
        "\n",
        ""
      ]
    },
    {
      "cell_type": "code",
      "execution_count": 121,
      "metadata": {
        "id": "4tu1QvNXYXVx"
      },
      "outputs": [],
      "source": [
        "def eval_epoch(model, val_loader, criterion):\n",
        "    model.eval()\n",
        "    running_loss = 0.0\n",
        "    running_corrects = 0\n",
        "    processed_size = 0\n",
        "\n",
        "    for inputs, labels in val_loader:\n",
        "        inputs = inputs.to(DEVICE)\n",
        "        labels = labels.to(DEVICE)\n",
        "\n",
        "        with torch.set_grad_enabled(False):\n",
        "            outputs = model(inputs)\n",
        "            loss = criterion(outputs, labels)\n",
        "            preds = torch.argmax(outputs, 1)\n",
        "\n",
        "        running_loss += loss.item() * inputs.size(0)\n",
        "        running_corrects += torch.sum(preds == labels.data)\n",
        "        processed_size += inputs.size(0)\n",
        "    val_loss = running_loss / processed_size\n",
        "    val_acc = running_corrects.double() / processed_size\n",
        "    print(f\"loss {val_loss}\")\n",
        "    return val_loss, val_acc"
      ]
    },
    {
      "cell_type": "code",
      "source": [
        "from tqdm import tqdm\n",
        "\n",
        "def train(model, train_loader, val_loader, optimizer, criterion, epochs):\n",
        "  running_loss = 0.0\n",
        "  running_corrects = 0\n",
        "  processed_data = 0\n",
        "  history = []\n",
        "  log_template = \"\\nEpoch {ep:03d} train_loss: {t_loss:0.4f} \\\n",
        "    val_loss {v_loss:0.4f} train_acc {t_acc:0.4f} val_acc {v_acc:0.4f}\"\n",
        "\n",
        "  best_val_acc = 0.0\n",
        "  best_weights = None\n",
        "  with tqdm(desc=\"epoch\", total=epochs) as pbar_outer:\n",
        "    for epoch in range(epochs):\n",
        "      train_loss, train_acc = fit_epoch(model, train_loader, optimizer, criterion)\n",
        "      print(\"loss\", train_loss)\n",
        "\n",
        "      val_loss, val_acc = eval_epoch(model, val_loader, criterion)\n",
        "      history.append((train_loss, train_acc, val_loss, val_acc))\n",
        "      tqdm.write(log_template.format(ep=epoch+1, t_loss=train_loss,\\\n",
        "                                            v_loss=val_loss, t_acc=train_acc, v_acc=val_acc))\n",
        "\n",
        "      if val_acc > best_val_acc:\n",
        "        best_val_acc = val_acc\n",
        "        best_model_weights = model.state_dict().copy()\n",
        "\n",
        "  if best_weights is not None:\n",
        "    model.load_state_dict(best_model_weights)\n",
        "\n",
        "\n",
        "  return history\n"
      ],
      "metadata": {
        "id": "3-OKmEopaqdw"
      },
      "execution_count": 122,
      "outputs": []
    },
    {
      "cell_type": "code",
      "execution_count": 123,
      "metadata": {
        "colab": {
          "base_uri": "https://localhost:8080/"
        },
        "id": "OOZtXizMYXVx",
        "outputId": "203aa8f4-e562-4948-957c-c89a0c946174"
      },
      "outputs": [
        {
          "output_type": "stream",
          "name": "stderr",
          "text": [
            "/usr/local/lib/python3.11/dist-packages/torchvision/models/_utils.py:208: UserWarning: The parameter 'pretrained' is deprecated since 0.13 and may be removed in the future, please use 'weights' instead.\n",
            "  warnings.warn(\n",
            "/usr/local/lib/python3.11/dist-packages/torchvision/models/_utils.py:223: UserWarning: Arguments other than a weight enum or `None` for 'weights' are deprecated since 0.13 and may be removed in the future. The current behavior is equivalent to passing `weights=ResNet18_Weights.IMAGENET1K_V1`. You can also use `weights=ResNet18_Weights.DEFAULT` to get the most up-to-date weights.\n",
            "  warnings.warn(msg)\n"
          ]
        }
      ],
      "source": [
        "model = models.resnet18(pretrained=True)\n"
      ]
    },
    {
      "cell_type": "code",
      "execution_count": 124,
      "metadata": {
        "colab": {
          "base_uri": "https://localhost:8080/"
        },
        "id": "YO0N5YF5YXVz",
        "outputId": "f9d2e88d-3165-459c-bdab-de739365545c"
      },
      "outputs": [
        {
          "output_type": "execute_result",
          "data": {
            "text/plain": [
              "ResNet(\n",
              "  (conv1): Conv2d(3, 64, kernel_size=(7, 7), stride=(2, 2), padding=(3, 3), bias=False)\n",
              "  (bn1): BatchNorm2d(64, eps=1e-05, momentum=0.1, affine=True, track_running_stats=True)\n",
              "  (relu): ReLU(inplace=True)\n",
              "  (maxpool): MaxPool2d(kernel_size=3, stride=2, padding=1, dilation=1, ceil_mode=False)\n",
              "  (layer1): Sequential(\n",
              "    (0): BasicBlock(\n",
              "      (conv1): Conv2d(64, 64, kernel_size=(3, 3), stride=(1, 1), padding=(1, 1), bias=False)\n",
              "      (bn1): BatchNorm2d(64, eps=1e-05, momentum=0.1, affine=True, track_running_stats=True)\n",
              "      (relu): ReLU(inplace=True)\n",
              "      (conv2): Conv2d(64, 64, kernel_size=(3, 3), stride=(1, 1), padding=(1, 1), bias=False)\n",
              "      (bn2): BatchNorm2d(64, eps=1e-05, momentum=0.1, affine=True, track_running_stats=True)\n",
              "    )\n",
              "    (1): BasicBlock(\n",
              "      (conv1): Conv2d(64, 64, kernel_size=(3, 3), stride=(1, 1), padding=(1, 1), bias=False)\n",
              "      (bn1): BatchNorm2d(64, eps=1e-05, momentum=0.1, affine=True, track_running_stats=True)\n",
              "      (relu): ReLU(inplace=True)\n",
              "      (conv2): Conv2d(64, 64, kernel_size=(3, 3), stride=(1, 1), padding=(1, 1), bias=False)\n",
              "      (bn2): BatchNorm2d(64, eps=1e-05, momentum=0.1, affine=True, track_running_stats=True)\n",
              "    )\n",
              "  )\n",
              "  (layer2): Sequential(\n",
              "    (0): BasicBlock(\n",
              "      (conv1): Conv2d(64, 128, kernel_size=(3, 3), stride=(2, 2), padding=(1, 1), bias=False)\n",
              "      (bn1): BatchNorm2d(128, eps=1e-05, momentum=0.1, affine=True, track_running_stats=True)\n",
              "      (relu): ReLU(inplace=True)\n",
              "      (conv2): Conv2d(128, 128, kernel_size=(3, 3), stride=(1, 1), padding=(1, 1), bias=False)\n",
              "      (bn2): BatchNorm2d(128, eps=1e-05, momentum=0.1, affine=True, track_running_stats=True)\n",
              "      (downsample): Sequential(\n",
              "        (0): Conv2d(64, 128, kernel_size=(1, 1), stride=(2, 2), bias=False)\n",
              "        (1): BatchNorm2d(128, eps=1e-05, momentum=0.1, affine=True, track_running_stats=True)\n",
              "      )\n",
              "    )\n",
              "    (1): BasicBlock(\n",
              "      (conv1): Conv2d(128, 128, kernel_size=(3, 3), stride=(1, 1), padding=(1, 1), bias=False)\n",
              "      (bn1): BatchNorm2d(128, eps=1e-05, momentum=0.1, affine=True, track_running_stats=True)\n",
              "      (relu): ReLU(inplace=True)\n",
              "      (conv2): Conv2d(128, 128, kernel_size=(3, 3), stride=(1, 1), padding=(1, 1), bias=False)\n",
              "      (bn2): BatchNorm2d(128, eps=1e-05, momentum=0.1, affine=True, track_running_stats=True)\n",
              "    )\n",
              "  )\n",
              "  (layer3): Sequential(\n",
              "    (0): BasicBlock(\n",
              "      (conv1): Conv2d(128, 256, kernel_size=(3, 3), stride=(2, 2), padding=(1, 1), bias=False)\n",
              "      (bn1): BatchNorm2d(256, eps=1e-05, momentum=0.1, affine=True, track_running_stats=True)\n",
              "      (relu): ReLU(inplace=True)\n",
              "      (conv2): Conv2d(256, 256, kernel_size=(3, 3), stride=(1, 1), padding=(1, 1), bias=False)\n",
              "      (bn2): BatchNorm2d(256, eps=1e-05, momentum=0.1, affine=True, track_running_stats=True)\n",
              "      (downsample): Sequential(\n",
              "        (0): Conv2d(128, 256, kernel_size=(1, 1), stride=(2, 2), bias=False)\n",
              "        (1): BatchNorm2d(256, eps=1e-05, momentum=0.1, affine=True, track_running_stats=True)\n",
              "      )\n",
              "    )\n",
              "    (1): BasicBlock(\n",
              "      (conv1): Conv2d(256, 256, kernel_size=(3, 3), stride=(1, 1), padding=(1, 1), bias=False)\n",
              "      (bn1): BatchNorm2d(256, eps=1e-05, momentum=0.1, affine=True, track_running_stats=True)\n",
              "      (relu): ReLU(inplace=True)\n",
              "      (conv2): Conv2d(256, 256, kernel_size=(3, 3), stride=(1, 1), padding=(1, 1), bias=False)\n",
              "      (bn2): BatchNorm2d(256, eps=1e-05, momentum=0.1, affine=True, track_running_stats=True)\n",
              "    )\n",
              "  )\n",
              "  (layer4): Sequential(\n",
              "    (0): BasicBlock(\n",
              "      (conv1): Conv2d(256, 512, kernel_size=(3, 3), stride=(2, 2), padding=(1, 1), bias=False)\n",
              "      (bn1): BatchNorm2d(512, eps=1e-05, momentum=0.1, affine=True, track_running_stats=True)\n",
              "      (relu): ReLU(inplace=True)\n",
              "      (conv2): Conv2d(512, 512, kernel_size=(3, 3), stride=(1, 1), padding=(1, 1), bias=False)\n",
              "      (bn2): BatchNorm2d(512, eps=1e-05, momentum=0.1, affine=True, track_running_stats=True)\n",
              "      (downsample): Sequential(\n",
              "        (0): Conv2d(256, 512, kernel_size=(1, 1), stride=(2, 2), bias=False)\n",
              "        (1): BatchNorm2d(512, eps=1e-05, momentum=0.1, affine=True, track_running_stats=True)\n",
              "      )\n",
              "    )\n",
              "    (1): BasicBlock(\n",
              "      (conv1): Conv2d(512, 512, kernel_size=(3, 3), stride=(1, 1), padding=(1, 1), bias=False)\n",
              "      (bn1): BatchNorm2d(512, eps=1e-05, momentum=0.1, affine=True, track_running_stats=True)\n",
              "      (relu): ReLU(inplace=True)\n",
              "      (conv2): Conv2d(512, 512, kernel_size=(3, 3), stride=(1, 1), padding=(1, 1), bias=False)\n",
              "      (bn2): BatchNorm2d(512, eps=1e-05, momentum=0.1, affine=True, track_running_stats=True)\n",
              "    )\n",
              "  )\n",
              "  (avgpool): AdaptiveAvgPool2d(output_size=(1, 1))\n",
              "  (fc): Linear(in_features=512, out_features=1000, bias=True)\n",
              ")"
            ]
          },
          "metadata": {},
          "execution_count": 124
        }
      ],
      "source": [
        "model"
      ]
    },
    {
      "cell_type": "code",
      "execution_count": 125,
      "metadata": {
        "colab": {
          "base_uri": "https://localhost:8080/"
        },
        "id": "mv5XhcCDYXV0",
        "outputId": "3f428473-9a78-451f-a57a-ec0664165454"
      },
      "outputs": [
        {
          "output_type": "stream",
          "name": "stderr",
          "text": [
            "epoch:   0%|          | 0/100 [00:00<?, ?it/s]"
          ]
        },
        {
          "output_type": "stream",
          "name": "stdout",
          "text": [
            "loss 0.8420699238777161\n",
            "loss 1.013794183731079\n",
            "\n",
            "Epoch 001 train_loss: 0.8421     val_loss 1.0138 train_acc 0.4688 val_acc 0.6250\n"
          ]
        },
        {
          "output_type": "stream",
          "name": "stderr",
          "text": [
            "epoch:   0%|          | 0/100 [00:00<?, ?it/s]"
          ]
        },
        {
          "output_type": "stream",
          "name": "stdout",
          "text": [
            "loss 0.05039174482226372\n",
            "loss 2.5617141723632812\n",
            "\n",
            "Epoch 002 train_loss: 0.0504     val_loss 2.5617 train_acc 1.0000 val_acc 0.6250\n"
          ]
        },
        {
          "output_type": "stream",
          "name": "stderr",
          "text": [
            "epoch:   0%|          | 0/100 [00:00<?, ?it/s]"
          ]
        },
        {
          "output_type": "stream",
          "name": "stdout",
          "text": [
            "loss 0.13043519854545593\n",
            "loss 2.54374098777771\n",
            "\n",
            "Epoch 003 train_loss: 0.1304     val_loss 2.5437 train_acc 0.9688 val_acc 0.5000\n"
          ]
        },
        {
          "output_type": "stream",
          "name": "stderr",
          "text": [
            "epoch:   0%|          | 0/100 [00:00<?, ?it/s]"
          ]
        },
        {
          "output_type": "stream",
          "name": "stdout",
          "text": [
            "loss 0.006788460072129965\n",
            "loss 3.345304489135742\n",
            "\n",
            "Epoch 004 train_loss: 0.0068     val_loss 3.3453 train_acc 1.0000 val_acc 0.5000\n"
          ]
        },
        {
          "output_type": "stream",
          "name": "stderr",
          "text": [
            "epoch:   0%|          | 0/100 [00:01<?, ?it/s]"
          ]
        },
        {
          "output_type": "stream",
          "name": "stdout",
          "text": [
            "loss 0.06664127111434937\n",
            "loss 2.000797748565674\n",
            "\n",
            "Epoch 005 train_loss: 0.0666     val_loss 2.0008 train_acc 0.9375 val_acc 0.6250\n"
          ]
        },
        {
          "output_type": "stream",
          "name": "stderr",
          "text": [
            "epoch:   0%|          | 0/100 [00:01<?, ?it/s]"
          ]
        },
        {
          "output_type": "stream",
          "name": "stdout",
          "text": [
            "loss 0.014066764153540134\n",
            "loss 1.850218653678894\n",
            "\n",
            "Epoch 006 train_loss: 0.0141     val_loss 1.8502 train_acc 1.0000 val_acc 0.6250\n"
          ]
        },
        {
          "output_type": "stream",
          "name": "stderr",
          "text": [
            "epoch:   0%|          | 0/100 [00:01<?, ?it/s]"
          ]
        },
        {
          "output_type": "stream",
          "name": "stdout",
          "text": [
            "loss 0.020174428820610046\n",
            "loss 1.5521658658981323\n",
            "\n",
            "Epoch 007 train_loss: 0.0202     val_loss 1.5522 train_acc 1.0000 val_acc 0.7500\n"
          ]
        },
        {
          "output_type": "stream",
          "name": "stderr",
          "text": [
            "epoch:   0%|          | 0/100 [00:01<?, ?it/s]"
          ]
        },
        {
          "output_type": "stream",
          "name": "stdout",
          "text": [
            "loss 0.009824301116168499\n",
            "loss 1.2906068563461304\n",
            "\n",
            "Epoch 008 train_loss: 0.0098     val_loss 1.2906 train_acc 1.0000 val_acc 0.7500\n"
          ]
        },
        {
          "output_type": "stream",
          "name": "stderr",
          "text": [
            "epoch:   0%|          | 0/100 [00:02<?, ?it/s]"
          ]
        },
        {
          "output_type": "stream",
          "name": "stdout",
          "text": [
            "loss 0.021809816360473633\n",
            "loss 2.6811537742614746\n",
            "\n",
            "Epoch 009 train_loss: 0.0218     val_loss 2.6812 train_acc 1.0000 val_acc 0.6250\n"
          ]
        },
        {
          "output_type": "stream",
          "name": "stderr",
          "text": [
            "epoch:   0%|          | 0/100 [00:02<?, ?it/s]"
          ]
        },
        {
          "output_type": "stream",
          "name": "stdout",
          "text": [
            "loss 0.1309056282043457\n",
            "loss 4.92004919052124\n",
            "\n",
            "Epoch 010 train_loss: 0.1309     val_loss 4.9200 train_acc 0.9688 val_acc 0.6250\n"
          ]
        },
        {
          "output_type": "stream",
          "name": "stderr",
          "text": [
            "epoch:   0%|          | 0/100 [00:02<?, ?it/s]"
          ]
        },
        {
          "output_type": "stream",
          "name": "stdout",
          "text": [
            "loss 0.0027545862831175327\n",
            "loss 2.940120220184326\n",
            "\n",
            "Epoch 011 train_loss: 0.0028     val_loss 2.9401 train_acc 1.0000 val_acc 0.5000\n"
          ]
        },
        {
          "output_type": "stream",
          "name": "stderr",
          "text": [
            "epoch:   0%|          | 0/100 [00:02<?, ?it/s]"
          ]
        },
        {
          "output_type": "stream",
          "name": "stdout",
          "text": [
            "loss 0.0019660224206745625\n",
            "loss 5.019357681274414\n",
            "\n",
            "Epoch 012 train_loss: 0.0020     val_loss 5.0194 train_acc 1.0000 val_acc 0.5000\n"
          ]
        },
        {
          "output_type": "stream",
          "name": "stderr",
          "text": [
            "epoch:   0%|          | 0/100 [00:03<?, ?it/s]"
          ]
        },
        {
          "output_type": "stream",
          "name": "stdout",
          "text": [
            "loss 0.0004367501533124596\n",
            "loss 3.027282476425171\n",
            "\n",
            "Epoch 013 train_loss: 0.0004     val_loss 3.0273 train_acc 1.0000 val_acc 0.5000\n"
          ]
        },
        {
          "output_type": "stream",
          "name": "stderr",
          "text": [
            "epoch:   0%|          | 0/100 [00:03<?, ?it/s]"
          ]
        },
        {
          "output_type": "stream",
          "name": "stdout",
          "text": [
            "loss 0.041742634028196335\n",
            "loss 6.506468772888184\n",
            "\n",
            "Epoch 014 train_loss: 0.0417     val_loss 6.5065 train_acc 0.9688 val_acc 0.5000\n"
          ]
        },
        {
          "output_type": "stream",
          "name": "stderr",
          "text": [
            "epoch:   0%|          | 0/100 [00:03<?, ?it/s]"
          ]
        },
        {
          "output_type": "stream",
          "name": "stdout",
          "text": [
            "loss 0.009052618406713009\n",
            "loss 4.841804504394531\n",
            "\n",
            "Epoch 015 train_loss: 0.0091     val_loss 4.8418 train_acc 1.0000 val_acc 0.5000\n"
          ]
        },
        {
          "output_type": "stream",
          "name": "stderr",
          "text": [
            "epoch:   0%|          | 0/100 [00:03<?, ?it/s]"
          ]
        },
        {
          "output_type": "stream",
          "name": "stdout",
          "text": [
            "loss 0.05712736025452614\n",
            "loss 5.870233058929443\n",
            "\n",
            "Epoch 016 train_loss: 0.0571     val_loss 5.8702 train_acc 0.9688 val_acc 0.5000\n"
          ]
        },
        {
          "output_type": "stream",
          "name": "stderr",
          "text": [
            "epoch:   0%|          | 0/100 [00:04<?, ?it/s]"
          ]
        },
        {
          "output_type": "stream",
          "name": "stdout",
          "text": [
            "loss 0.00902476441115141\n",
            "loss 3.3913891315460205\n",
            "\n",
            "Epoch 017 train_loss: 0.0090     val_loss 3.3914 train_acc 1.0000 val_acc 0.6250\n"
          ]
        },
        {
          "output_type": "stream",
          "name": "stderr",
          "text": [
            "epoch:   0%|          | 0/100 [00:04<?, ?it/s]"
          ]
        },
        {
          "output_type": "stream",
          "name": "stdout",
          "text": [
            "loss 0.0025899524334818125\n",
            "loss 3.2313930988311768\n",
            "\n",
            "Epoch 018 train_loss: 0.0026     val_loss 3.2314 train_acc 1.0000 val_acc 0.6250\n"
          ]
        },
        {
          "output_type": "stream",
          "name": "stderr",
          "text": [
            "epoch:   0%|          | 0/100 [00:04<?, ?it/s]"
          ]
        },
        {
          "output_type": "stream",
          "name": "stdout",
          "text": [
            "loss 0.0020763094071298838\n",
            "loss 3.324064016342163\n",
            "\n",
            "Epoch 019 train_loss: 0.0021     val_loss 3.3241 train_acc 1.0000 val_acc 0.7500\n"
          ]
        },
        {
          "output_type": "stream",
          "name": "stderr",
          "text": [
            "epoch:   0%|          | 0/100 [00:04<?, ?it/s]"
          ]
        },
        {
          "output_type": "stream",
          "name": "stdout",
          "text": [
            "loss 0.015169588848948479\n",
            "loss 3.0061285495758057\n",
            "\n",
            "Epoch 020 train_loss: 0.0152     val_loss 3.0061 train_acc 1.0000 val_acc 0.5000\n"
          ]
        },
        {
          "output_type": "stream",
          "name": "stderr",
          "text": [
            "epoch:   0%|          | 0/100 [00:05<?, ?it/s]"
          ]
        },
        {
          "output_type": "stream",
          "name": "stdout",
          "text": [
            "loss 0.0018610501429066062\n",
            "loss 2.6010892391204834\n",
            "\n",
            "Epoch 021 train_loss: 0.0019     val_loss 2.6011 train_acc 1.0000 val_acc 0.6250\n"
          ]
        },
        {
          "output_type": "stream",
          "name": "stderr",
          "text": [
            "epoch:   0%|          | 0/100 [00:05<?, ?it/s]"
          ]
        },
        {
          "output_type": "stream",
          "name": "stdout",
          "text": [
            "loss 0.0018205420346930623\n",
            "loss 2.140058994293213\n",
            "\n",
            "Epoch 022 train_loss: 0.0018     val_loss 2.1401 train_acc 1.0000 val_acc 0.7500\n"
          ]
        },
        {
          "output_type": "stream",
          "name": "stderr",
          "text": [
            "epoch:   0%|          | 0/100 [00:05<?, ?it/s]"
          ]
        },
        {
          "output_type": "stream",
          "name": "stdout",
          "text": [
            "loss 0.0004311964148655534\n",
            "loss 1.973930835723877\n",
            "\n",
            "Epoch 023 train_loss: 0.0004     val_loss 1.9739 train_acc 1.0000 val_acc 0.6250\n"
          ]
        },
        {
          "output_type": "stream",
          "name": "stderr",
          "text": [
            "epoch:   0%|          | 0/100 [00:05<?, ?it/s]"
          ]
        },
        {
          "output_type": "stream",
          "name": "stdout",
          "text": [
            "loss 0.16130687296390533\n",
            "loss 1.0758272409439087\n",
            "\n",
            "Epoch 024 train_loss: 0.1613     val_loss 1.0758 train_acc 0.9688 val_acc 0.8750\n"
          ]
        },
        {
          "output_type": "stream",
          "name": "stderr",
          "text": [
            "epoch:   0%|          | 0/100 [00:06<?, ?it/s]"
          ]
        },
        {
          "output_type": "stream",
          "name": "stdout",
          "text": [
            "loss 0.0009907756466418505\n",
            "loss 1.2387527227401733\n",
            "\n",
            "Epoch 025 train_loss: 0.0010     val_loss 1.2388 train_acc 1.0000 val_acc 0.6250\n"
          ]
        },
        {
          "output_type": "stream",
          "name": "stderr",
          "text": [
            "epoch:   0%|          | 0/100 [00:06<?, ?it/s]"
          ]
        },
        {
          "output_type": "stream",
          "name": "stdout",
          "text": [
            "loss 0.004646033979952335\n",
            "loss 0.519700825214386\n",
            "\n",
            "Epoch 026 train_loss: 0.0046     val_loss 0.5197 train_acc 1.0000 val_acc 0.7500\n"
          ]
        },
        {
          "output_type": "stream",
          "name": "stderr",
          "text": [
            "epoch:   0%|          | 0/100 [00:06<?, ?it/s]"
          ]
        },
        {
          "output_type": "stream",
          "name": "stdout",
          "text": [
            "loss 0.010719564743340015\n",
            "loss 0.060350846499204636\n",
            "\n",
            "Epoch 027 train_loss: 0.0107     val_loss 0.0604 train_acc 1.0000 val_acc 1.0000\n"
          ]
        },
        {
          "output_type": "stream",
          "name": "stderr",
          "text": [
            "epoch:   0%|          | 0/100 [00:06<?, ?it/s]"
          ]
        },
        {
          "output_type": "stream",
          "name": "stdout",
          "text": [
            "loss 0.01689887046813965\n",
            "loss 0.8555781245231628\n",
            "\n",
            "Epoch 028 train_loss: 0.0169     val_loss 0.8556 train_acc 1.0000 val_acc 0.7500\n"
          ]
        },
        {
          "output_type": "stream",
          "name": "stderr",
          "text": [
            "epoch:   0%|          | 0/100 [00:07<?, ?it/s]"
          ]
        },
        {
          "output_type": "stream",
          "name": "stdout",
          "text": [
            "loss 0.010310606099665165\n",
            "loss 0.7558826208114624\n",
            "\n",
            "Epoch 029 train_loss: 0.0103     val_loss 0.7559 train_acc 1.0000 val_acc 0.8750\n"
          ]
        },
        {
          "output_type": "stream",
          "name": "stderr",
          "text": [
            "epoch:   0%|          | 0/100 [00:07<?, ?it/s]"
          ]
        },
        {
          "output_type": "stream",
          "name": "stdout",
          "text": [
            "loss 0.005307906772941351\n",
            "loss 0.9288950562477112\n",
            "\n",
            "Epoch 030 train_loss: 0.0053     val_loss 0.9289 train_acc 1.0000 val_acc 0.7500\n"
          ]
        },
        {
          "output_type": "stream",
          "name": "stderr",
          "text": [
            "epoch:   0%|          | 0/100 [00:07<?, ?it/s]"
          ]
        },
        {
          "output_type": "stream",
          "name": "stdout",
          "text": [
            "loss 0.009701303206384182\n",
            "loss 0.9985806345939636\n",
            "\n",
            "Epoch 031 train_loss: 0.0097     val_loss 0.9986 train_acc 1.0000 val_acc 0.7500\n"
          ]
        },
        {
          "output_type": "stream",
          "name": "stderr",
          "text": [
            "epoch:   0%|          | 0/100 [00:07<?, ?it/s]"
          ]
        },
        {
          "output_type": "stream",
          "name": "stdout",
          "text": [
            "loss 0.0034091584384441376\n",
            "loss 1.8388296365737915\n",
            "\n",
            "Epoch 032 train_loss: 0.0034     val_loss 1.8388 train_acc 1.0000 val_acc 0.6250\n"
          ]
        },
        {
          "output_type": "stream",
          "name": "stderr",
          "text": [
            "epoch:   0%|          | 0/100 [00:08<?, ?it/s]"
          ]
        },
        {
          "output_type": "stream",
          "name": "stdout",
          "text": [
            "loss 0.0066817086189985275\n",
            "loss 1.8679819107055664\n",
            "\n",
            "Epoch 033 train_loss: 0.0067     val_loss 1.8680 train_acc 1.0000 val_acc 0.5000\n"
          ]
        },
        {
          "output_type": "stream",
          "name": "stderr",
          "text": [
            "epoch:   0%|          | 0/100 [00:08<?, ?it/s]"
          ]
        },
        {
          "output_type": "stream",
          "name": "stdout",
          "text": [
            "loss 0.11359082907438278\n",
            "loss 0.6756807565689087\n",
            "\n",
            "Epoch 034 train_loss: 0.1136     val_loss 0.6757 train_acc 0.9688 val_acc 0.6250\n"
          ]
        },
        {
          "output_type": "stream",
          "name": "stderr",
          "text": [
            "epoch:   0%|          | 0/100 [00:08<?, ?it/s]"
          ]
        },
        {
          "output_type": "stream",
          "name": "stdout",
          "text": [
            "loss 0.002735209185630083\n",
            "loss 2.536133289337158\n",
            "\n",
            "Epoch 035 train_loss: 0.0027     val_loss 2.5361 train_acc 1.0000 val_acc 0.6250\n"
          ]
        },
        {
          "output_type": "stream",
          "name": "stderr",
          "text": [
            "epoch:   0%|          | 0/100 [00:08<?, ?it/s]"
          ]
        },
        {
          "output_type": "stream",
          "name": "stdout",
          "text": [
            "loss 0.0025765043683350086\n",
            "loss 2.676528215408325\n",
            "\n",
            "Epoch 036 train_loss: 0.0026     val_loss 2.6765 train_acc 1.0000 val_acc 0.6250\n"
          ]
        },
        {
          "output_type": "stream",
          "name": "stderr",
          "text": [
            "epoch:   0%|          | 0/100 [00:09<?, ?it/s]"
          ]
        },
        {
          "output_type": "stream",
          "name": "stdout",
          "text": [
            "loss 0.011504820547997952\n",
            "loss 2.727095603942871\n",
            "\n",
            "Epoch 037 train_loss: 0.0115     val_loss 2.7271 train_acc 1.0000 val_acc 0.7500\n"
          ]
        },
        {
          "output_type": "stream",
          "name": "stderr",
          "text": [
            "epoch:   0%|          | 0/100 [00:09<?, ?it/s]"
          ]
        },
        {
          "output_type": "stream",
          "name": "stdout",
          "text": [
            "loss 0.008206294849514961\n",
            "loss 2.2856204509735107\n",
            "\n",
            "Epoch 038 train_loss: 0.0082     val_loss 2.2856 train_acc 1.0000 val_acc 0.7500\n"
          ]
        },
        {
          "output_type": "stream",
          "name": "stderr",
          "text": [
            "epoch:   0%|          | 0/100 [00:09<?, ?it/s]"
          ]
        },
        {
          "output_type": "stream",
          "name": "stdout",
          "text": [
            "loss 0.010771134868264198\n",
            "loss 3.7637338638305664\n",
            "\n",
            "Epoch 039 train_loss: 0.0108     val_loss 3.7637 train_acc 1.0000 val_acc 0.6250\n"
          ]
        },
        {
          "output_type": "stream",
          "name": "stderr",
          "text": [
            "epoch:   0%|          | 0/100 [00:10<?, ?it/s]"
          ]
        },
        {
          "output_type": "stream",
          "name": "stdout",
          "text": [
            "loss 0.008514510467648506\n",
            "loss 3.7161405086517334\n",
            "\n",
            "Epoch 040 train_loss: 0.0085     val_loss 3.7161 train_acc 1.0000 val_acc 0.6250\n"
          ]
        },
        {
          "output_type": "stream",
          "name": "stderr",
          "text": [
            "epoch:   0%|          | 0/100 [00:10<?, ?it/s]"
          ]
        },
        {
          "output_type": "stream",
          "name": "stdout",
          "text": [
            "loss 0.005225131753832102\n",
            "loss 3.549126386642456\n",
            "\n",
            "Epoch 041 train_loss: 0.0052     val_loss 3.5491 train_acc 1.0000 val_acc 0.6250\n"
          ]
        },
        {
          "output_type": "stream",
          "name": "stderr",
          "text": [
            "epoch:   0%|          | 0/100 [00:10<?, ?it/s]"
          ]
        },
        {
          "output_type": "stream",
          "name": "stdout",
          "text": [
            "loss 0.026785239577293396\n",
            "loss 3.0461490154266357\n",
            "\n",
            "Epoch 042 train_loss: 0.0268     val_loss 3.0461 train_acc 0.9688 val_acc 0.5000\n"
          ]
        },
        {
          "output_type": "stream",
          "name": "stderr",
          "text": [
            "epoch:   0%|          | 0/100 [00:11<?, ?it/s]"
          ]
        },
        {
          "output_type": "stream",
          "name": "stdout",
          "text": [
            "loss 0.0036541325971484184\n",
            "loss 3.4233596324920654\n",
            "\n",
            "Epoch 043 train_loss: 0.0037     val_loss 3.4234 train_acc 1.0000 val_acc 0.6250\n"
          ]
        },
        {
          "output_type": "stream",
          "name": "stderr",
          "text": [
            "epoch:   0%|          | 0/100 [00:11<?, ?it/s]"
          ]
        },
        {
          "output_type": "stream",
          "name": "stdout",
          "text": [
            "loss 0.002582922810688615\n",
            "loss 2.7761342525482178\n",
            "\n",
            "Epoch 044 train_loss: 0.0026     val_loss 2.7761 train_acc 1.0000 val_acc 0.6250\n"
          ]
        },
        {
          "output_type": "stream",
          "name": "stderr",
          "text": [
            "epoch:   0%|          | 0/100 [00:11<?, ?it/s]"
          ]
        },
        {
          "output_type": "stream",
          "name": "stdout",
          "text": [
            "loss 0.0036292492877691984\n",
            "loss 2.144287586212158\n",
            "\n",
            "Epoch 045 train_loss: 0.0036     val_loss 2.1443 train_acc 1.0000 val_acc 0.6250\n"
          ]
        },
        {
          "output_type": "stream",
          "name": "stderr",
          "text": [
            "epoch:   0%|          | 0/100 [00:11<?, ?it/s]"
          ]
        },
        {
          "output_type": "stream",
          "name": "stdout",
          "text": [
            "loss 0.006017032545059919\n",
            "loss 2.144394636154175\n",
            "\n",
            "Epoch 046 train_loss: 0.0060     val_loss 2.1444 train_acc 1.0000 val_acc 0.6250\n"
          ]
        },
        {
          "output_type": "stream",
          "name": "stderr",
          "text": [
            "epoch:   0%|          | 0/100 [00:12<?, ?it/s]"
          ]
        },
        {
          "output_type": "stream",
          "name": "stdout",
          "text": [
            "loss 0.0018627296667546034\n",
            "loss 1.390824794769287\n",
            "\n",
            "Epoch 047 train_loss: 0.0019     val_loss 1.3908 train_acc 1.0000 val_acc 0.7500\n"
          ]
        },
        {
          "output_type": "stream",
          "name": "stderr",
          "text": [
            "epoch:   0%|          | 0/100 [00:12<?, ?it/s]"
          ]
        },
        {
          "output_type": "stream",
          "name": "stdout",
          "text": [
            "loss 0.0054398225620388985\n",
            "loss 1.2127574682235718\n",
            "\n",
            "Epoch 048 train_loss: 0.0054     val_loss 1.2128 train_acc 1.0000 val_acc 0.7500\n"
          ]
        },
        {
          "output_type": "stream",
          "name": "stderr",
          "text": [
            "epoch:   0%|          | 0/100 [00:12<?, ?it/s]"
          ]
        },
        {
          "output_type": "stream",
          "name": "stdout",
          "text": [
            "loss 0.0018356622895225883\n",
            "loss 1.1505389213562012\n",
            "\n",
            "Epoch 049 train_loss: 0.0018     val_loss 1.1505 train_acc 1.0000 val_acc 0.7500\n"
          ]
        },
        {
          "output_type": "stream",
          "name": "stderr",
          "text": [
            "epoch:   0%|          | 0/100 [00:12<?, ?it/s]"
          ]
        },
        {
          "output_type": "stream",
          "name": "stdout",
          "text": [
            "loss 0.003291045082733035\n",
            "loss 0.4927600622177124\n",
            "\n",
            "Epoch 050 train_loss: 0.0033     val_loss 0.4928 train_acc 1.0000 val_acc 0.7500\n"
          ]
        },
        {
          "output_type": "stream",
          "name": "stderr",
          "text": [
            "epoch:   0%|          | 0/100 [00:13<?, ?it/s]"
          ]
        },
        {
          "output_type": "stream",
          "name": "stdout",
          "text": [
            "loss 0.0020834479946643114\n",
            "loss 0.9814592599868774\n",
            "\n",
            "Epoch 051 train_loss: 0.0021     val_loss 0.9815 train_acc 1.0000 val_acc 0.6250\n"
          ]
        },
        {
          "output_type": "stream",
          "name": "stderr",
          "text": [
            "epoch:   0%|          | 0/100 [00:13<?, ?it/s]"
          ]
        },
        {
          "output_type": "stream",
          "name": "stdout",
          "text": [
            "loss 0.004295611288398504\n",
            "loss 0.5956274271011353\n",
            "\n",
            "Epoch 052 train_loss: 0.0043     val_loss 0.5956 train_acc 1.0000 val_acc 0.7500\n"
          ]
        },
        {
          "output_type": "stream",
          "name": "stderr",
          "text": [
            "epoch:   0%|          | 0/100 [00:13<?, ?it/s]"
          ]
        },
        {
          "output_type": "stream",
          "name": "stdout",
          "text": [
            "loss 0.000898779951967299\n",
            "loss 1.1222175359725952\n",
            "\n",
            "Epoch 053 train_loss: 0.0009     val_loss 1.1222 train_acc 1.0000 val_acc 0.5000\n"
          ]
        },
        {
          "output_type": "stream",
          "name": "stderr",
          "text": [
            "epoch:   0%|          | 0/100 [00:13<?, ?it/s]"
          ]
        },
        {
          "output_type": "stream",
          "name": "stdout",
          "text": [
            "loss 0.0012368327006697655\n",
            "loss 0.8692383766174316\n",
            "\n",
            "Epoch 054 train_loss: 0.0012     val_loss 0.8692 train_acc 1.0000 val_acc 0.6250\n"
          ]
        },
        {
          "output_type": "stream",
          "name": "stderr",
          "text": [
            "epoch:   0%|          | 0/100 [00:14<?, ?it/s]"
          ]
        },
        {
          "output_type": "stream",
          "name": "stdout",
          "text": [
            "loss 0.002462957287207246\n",
            "loss 0.6895283460617065\n",
            "\n",
            "Epoch 055 train_loss: 0.0025     val_loss 0.6895 train_acc 1.0000 val_acc 0.7500\n"
          ]
        },
        {
          "output_type": "stream",
          "name": "stderr",
          "text": [
            "epoch:   0%|          | 0/100 [00:14<?, ?it/s]"
          ]
        },
        {
          "output_type": "stream",
          "name": "stdout",
          "text": [
            "loss 0.0006479164585471153\n",
            "loss 0.8948258757591248\n",
            "\n",
            "Epoch 056 train_loss: 0.0006     val_loss 0.8948 train_acc 1.0000 val_acc 0.5000\n"
          ]
        },
        {
          "output_type": "stream",
          "name": "stderr",
          "text": [
            "epoch:   0%|          | 0/100 [00:14<?, ?it/s]"
          ]
        },
        {
          "output_type": "stream",
          "name": "stdout",
          "text": [
            "loss 0.004999417345970869\n",
            "loss 1.0656002759933472\n",
            "\n",
            "Epoch 057 train_loss: 0.0050     val_loss 1.0656 train_acc 1.0000 val_acc 0.6250\n"
          ]
        },
        {
          "output_type": "stream",
          "name": "stderr",
          "text": [
            "epoch:   0%|          | 0/100 [00:14<?, ?it/s]"
          ]
        },
        {
          "output_type": "stream",
          "name": "stdout",
          "text": [
            "loss 0.00048333409358747303\n",
            "loss 0.7682371139526367\n",
            "\n",
            "Epoch 058 train_loss: 0.0005     val_loss 0.7682 train_acc 1.0000 val_acc 0.6250\n"
          ]
        },
        {
          "output_type": "stream",
          "name": "stderr",
          "text": [
            "epoch:   0%|          | 0/100 [00:15<?, ?it/s]"
          ]
        },
        {
          "output_type": "stream",
          "name": "stdout",
          "text": [
            "loss 0.002619324717670679\n",
            "loss 0.8106047511100769\n",
            "\n",
            "Epoch 059 train_loss: 0.0026     val_loss 0.8106 train_acc 1.0000 val_acc 0.7500\n"
          ]
        },
        {
          "output_type": "stream",
          "name": "stderr",
          "text": [
            "epoch:   0%|          | 0/100 [00:15<?, ?it/s]"
          ]
        },
        {
          "output_type": "stream",
          "name": "stdout",
          "text": [
            "loss 0.0009374151704832911\n",
            "loss 0.5357306599617004\n",
            "\n",
            "Epoch 060 train_loss: 0.0009     val_loss 0.5357 train_acc 1.0000 val_acc 0.7500\n"
          ]
        },
        {
          "output_type": "stream",
          "name": "stderr",
          "text": [
            "epoch:   0%|          | 0/100 [00:15<?, ?it/s]"
          ]
        },
        {
          "output_type": "stream",
          "name": "stdout",
          "text": [
            "loss 0.001396265928633511\n",
            "loss 0.9812090396881104\n",
            "\n",
            "Epoch 061 train_loss: 0.0014     val_loss 0.9812 train_acc 1.0000 val_acc 0.6250\n"
          ]
        },
        {
          "output_type": "stream",
          "name": "stderr",
          "text": [
            "epoch:   0%|          | 0/100 [00:15<?, ?it/s]"
          ]
        },
        {
          "output_type": "stream",
          "name": "stdout",
          "text": [
            "loss 0.0014715229626744986\n",
            "loss 0.7583419680595398\n",
            "\n",
            "Epoch 062 train_loss: 0.0015     val_loss 0.7583 train_acc 1.0000 val_acc 0.6250\n"
          ]
        },
        {
          "output_type": "stream",
          "name": "stderr",
          "text": [
            "epoch:   0%|          | 0/100 [00:16<?, ?it/s]"
          ]
        },
        {
          "output_type": "stream",
          "name": "stdout",
          "text": [
            "loss 0.0005738388863392174\n",
            "loss 0.9310660362243652\n",
            "\n",
            "Epoch 063 train_loss: 0.0006     val_loss 0.9311 train_acc 1.0000 val_acc 0.6250\n"
          ]
        },
        {
          "output_type": "stream",
          "name": "stderr",
          "text": [
            "epoch:   0%|          | 0/100 [00:16<?, ?it/s]"
          ]
        },
        {
          "output_type": "stream",
          "name": "stdout",
          "text": [
            "loss 0.0010594434570521116\n",
            "loss 0.9628362655639648\n",
            "\n",
            "Epoch 064 train_loss: 0.0011     val_loss 0.9628 train_acc 1.0000 val_acc 0.6250\n"
          ]
        },
        {
          "output_type": "stream",
          "name": "stderr",
          "text": [
            "epoch:   0%|          | 0/100 [00:16<?, ?it/s]"
          ]
        },
        {
          "output_type": "stream",
          "name": "stdout",
          "text": [
            "loss 0.0004686726024374366\n",
            "loss 0.5704565048217773\n",
            "\n",
            "Epoch 065 train_loss: 0.0005     val_loss 0.5705 train_acc 1.0000 val_acc 0.6250\n"
          ]
        },
        {
          "output_type": "stream",
          "name": "stderr",
          "text": [
            "epoch:   0%|          | 0/100 [00:16<?, ?it/s]"
          ]
        },
        {
          "output_type": "stream",
          "name": "stdout",
          "text": [
            "loss 0.0005637447466142476\n",
            "loss 0.896443784236908\n",
            "\n",
            "Epoch 066 train_loss: 0.0006     val_loss 0.8964 train_acc 1.0000 val_acc 0.6250\n"
          ]
        },
        {
          "output_type": "stream",
          "name": "stderr",
          "text": [
            "epoch:   0%|          | 0/100 [00:17<?, ?it/s]"
          ]
        },
        {
          "output_type": "stream",
          "name": "stdout",
          "text": [
            "loss 0.0007858223398216069\n",
            "loss 0.8959372043609619\n",
            "\n",
            "Epoch 067 train_loss: 0.0008     val_loss 0.8959 train_acc 1.0000 val_acc 0.5000\n"
          ]
        },
        {
          "output_type": "stream",
          "name": "stderr",
          "text": [
            "epoch:   0%|          | 0/100 [00:17<?, ?it/s]"
          ]
        },
        {
          "output_type": "stream",
          "name": "stdout",
          "text": [
            "loss 0.0005830367445014417\n",
            "loss 0.5555732250213623\n",
            "\n",
            "Epoch 068 train_loss: 0.0006     val_loss 0.5556 train_acc 1.0000 val_acc 0.6250\n"
          ]
        },
        {
          "output_type": "stream",
          "name": "stderr",
          "text": [
            "epoch:   0%|          | 0/100 [00:17<?, ?it/s]"
          ]
        },
        {
          "output_type": "stream",
          "name": "stdout",
          "text": [
            "loss 0.0006003379239700735\n",
            "loss 0.9495162963867188\n",
            "\n",
            "Epoch 069 train_loss: 0.0006     val_loss 0.9495 train_acc 1.0000 val_acc 0.6250\n"
          ]
        },
        {
          "output_type": "stream",
          "name": "stderr",
          "text": [
            "epoch:   0%|          | 0/100 [00:17<?, ?it/s]"
          ]
        },
        {
          "output_type": "stream",
          "name": "stdout",
          "text": [
            "loss 0.0006034057005308568\n",
            "loss 0.8622220754623413\n",
            "\n",
            "Epoch 070 train_loss: 0.0006     val_loss 0.8622 train_acc 1.0000 val_acc 0.6250\n"
          ]
        },
        {
          "output_type": "stream",
          "name": "stderr",
          "text": [
            "epoch:   0%|          | 0/100 [00:18<?, ?it/s]"
          ]
        },
        {
          "output_type": "stream",
          "name": "stdout",
          "text": [
            "loss 0.0004520216607488692\n",
            "loss 0.8750221729278564\n",
            "\n",
            "Epoch 071 train_loss: 0.0005     val_loss 0.8750 train_acc 1.0000 val_acc 0.6250\n"
          ]
        },
        {
          "output_type": "stream",
          "name": "stderr",
          "text": [
            "epoch:   0%|          | 0/100 [00:18<?, ?it/s]"
          ]
        },
        {
          "output_type": "stream",
          "name": "stdout",
          "text": [
            "loss 0.0002788516285363585\n",
            "loss 0.7805307507514954\n",
            "\n",
            "Epoch 072 train_loss: 0.0003     val_loss 0.7805 train_acc 1.0000 val_acc 0.6250\n"
          ]
        },
        {
          "output_type": "stream",
          "name": "stderr",
          "text": [
            "epoch:   0%|          | 0/100 [00:18<?, ?it/s]"
          ]
        },
        {
          "output_type": "stream",
          "name": "stdout",
          "text": [
            "loss 0.0007890872657299042\n",
            "loss 0.6123849749565125\n",
            "\n",
            "Epoch 073 train_loss: 0.0008     val_loss 0.6124 train_acc 1.0000 val_acc 0.7500\n"
          ]
        },
        {
          "output_type": "stream",
          "name": "stderr",
          "text": [
            "epoch:   0%|          | 0/100 [00:18<?, ?it/s]"
          ]
        },
        {
          "output_type": "stream",
          "name": "stdout",
          "text": [
            "loss 0.0028064241632819176\n",
            "loss 0.8216120004653931\n",
            "\n",
            "Epoch 074 train_loss: 0.0028     val_loss 0.8216 train_acc 1.0000 val_acc 0.6250\n"
          ]
        },
        {
          "output_type": "stream",
          "name": "stderr",
          "text": [
            "epoch:   0%|          | 0/100 [00:19<?, ?it/s]"
          ]
        },
        {
          "output_type": "stream",
          "name": "stdout",
          "text": [
            "loss 0.00028531538555398583\n",
            "loss 0.5715015530586243\n",
            "\n",
            "Epoch 075 train_loss: 0.0003     val_loss 0.5715 train_acc 1.0000 val_acc 0.6250\n"
          ]
        },
        {
          "output_type": "stream",
          "name": "stderr",
          "text": [
            "epoch:   0%|          | 0/100 [00:19<?, ?it/s]"
          ]
        },
        {
          "output_type": "stream",
          "name": "stdout",
          "text": [
            "loss 0.0006760723190382123\n",
            "loss 0.8233131766319275\n",
            "\n",
            "Epoch 076 train_loss: 0.0007     val_loss 0.8233 train_acc 1.0000 val_acc 0.5000\n"
          ]
        },
        {
          "output_type": "stream",
          "name": "stderr",
          "text": [
            "epoch:   0%|          | 0/100 [00:19<?, ?it/s]"
          ]
        },
        {
          "output_type": "stream",
          "name": "stdout",
          "text": [
            "loss 0.0187271349132061\n",
            "loss 0.6909251809120178\n",
            "\n",
            "Epoch 077 train_loss: 0.0187     val_loss 0.6909 train_acc 1.0000 val_acc 0.7500\n"
          ]
        },
        {
          "output_type": "stream",
          "name": "stderr",
          "text": [
            "epoch:   0%|          | 0/100 [00:19<?, ?it/s]"
          ]
        },
        {
          "output_type": "stream",
          "name": "stdout",
          "text": [
            "loss 0.8333275318145752\n",
            "loss 4.346943378448486\n",
            "\n",
            "Epoch 078 train_loss: 0.8333     val_loss 4.3469 train_acc 0.9062 val_acc 0.5000\n"
          ]
        },
        {
          "output_type": "stream",
          "name": "stderr",
          "text": [
            "epoch:   0%|          | 0/100 [00:20<?, ?it/s]"
          ]
        },
        {
          "output_type": "stream",
          "name": "stdout",
          "text": [
            "loss 0.13575294613838196\n",
            "loss 25.20705795288086\n",
            "\n",
            "Epoch 079 train_loss: 0.1358     val_loss 25.2071 train_acc 0.9375 val_acc 0.5000\n"
          ]
        },
        {
          "output_type": "stream",
          "name": "stderr",
          "text": [
            "epoch:   0%|          | 0/100 [00:20<?, ?it/s]"
          ]
        },
        {
          "output_type": "stream",
          "name": "stdout",
          "text": [
            "loss 1.9732060432434082\n",
            "loss 10.02813720703125\n",
            "\n",
            "Epoch 080 train_loss: 1.9732     val_loss 10.0281 train_acc 0.6250 val_acc 0.6250\n"
          ]
        },
        {
          "output_type": "stream",
          "name": "stderr",
          "text": [
            "epoch:   0%|          | 0/100 [00:20<?, ?it/s]"
          ]
        },
        {
          "output_type": "stream",
          "name": "stdout",
          "text": [
            "loss 0.08499810099601746\n",
            "loss 20.207748413085938\n",
            "\n",
            "Epoch 081 train_loss: 0.0850     val_loss 20.2077 train_acc 0.9688 val_acc 0.5000\n"
          ]
        },
        {
          "output_type": "stream",
          "name": "stderr",
          "text": [
            "epoch:   0%|          | 0/100 [00:20<?, ?it/s]"
          ]
        },
        {
          "output_type": "stream",
          "name": "stdout",
          "text": [
            "loss 0.11096566915512085\n",
            "loss 31.46695327758789\n",
            "\n",
            "Epoch 082 train_loss: 0.1110     val_loss 31.4670 train_acc 0.9688 val_acc 0.5000\n"
          ]
        },
        {
          "output_type": "stream",
          "name": "stderr",
          "text": [
            "epoch:   0%|          | 0/100 [00:21<?, ?it/s]"
          ]
        },
        {
          "output_type": "stream",
          "name": "stdout",
          "text": [
            "loss 0.11342921853065491\n",
            "loss 54.584014892578125\n",
            "\n",
            "Epoch 083 train_loss: 0.1134     val_loss 54.5840 train_acc 0.9375 val_acc 0.5000\n"
          ]
        },
        {
          "output_type": "stream",
          "name": "stderr",
          "text": [
            "epoch:   0%|          | 0/100 [00:21<?, ?it/s]"
          ]
        },
        {
          "output_type": "stream",
          "name": "stdout",
          "text": [
            "loss 0.09150595963001251\n",
            "loss 30.009946823120117\n",
            "\n",
            "Epoch 084 train_loss: 0.0915     val_loss 30.0099 train_acc 0.9688 val_acc 0.5000\n"
          ]
        },
        {
          "output_type": "stream",
          "name": "stderr",
          "text": [
            "epoch:   0%|          | 0/100 [00:21<?, ?it/s]"
          ]
        },
        {
          "output_type": "stream",
          "name": "stdout",
          "text": [
            "loss 0.08073092252016068\n",
            "loss 35.95604705810547\n",
            "\n",
            "Epoch 085 train_loss: 0.0807     val_loss 35.9560 train_acc 0.9688 val_acc 0.6250\n"
          ]
        },
        {
          "output_type": "stream",
          "name": "stderr",
          "text": [
            "epoch:   0%|          | 0/100 [00:21<?, ?it/s]"
          ]
        },
        {
          "output_type": "stream",
          "name": "stdout",
          "text": [
            "loss 0.020906444638967514\n",
            "loss 25.39714813232422\n",
            "\n",
            "Epoch 086 train_loss: 0.0209     val_loss 25.3971 train_acc 1.0000 val_acc 0.5000\n"
          ]
        },
        {
          "output_type": "stream",
          "name": "stderr",
          "text": [
            "epoch:   0%|          | 0/100 [00:22<?, ?it/s]"
          ]
        },
        {
          "output_type": "stream",
          "name": "stdout",
          "text": [
            "loss 0.03355899825692177\n",
            "loss 24.81369400024414\n",
            "\n",
            "Epoch 087 train_loss: 0.0336     val_loss 24.8137 train_acc 1.0000 val_acc 0.5000\n"
          ]
        },
        {
          "output_type": "stream",
          "name": "stderr",
          "text": [
            "epoch:   0%|          | 0/100 [00:22<?, ?it/s]"
          ]
        },
        {
          "output_type": "stream",
          "name": "stdout",
          "text": [
            "loss 0.07803311944007874\n",
            "loss 19.436870574951172\n",
            "\n",
            "Epoch 088 train_loss: 0.0780     val_loss 19.4369 train_acc 0.9375 val_acc 0.7500\n"
          ]
        },
        {
          "output_type": "stream",
          "name": "stderr",
          "text": [
            "epoch:   0%|          | 0/100 [00:22<?, ?it/s]"
          ]
        },
        {
          "output_type": "stream",
          "name": "stdout",
          "text": [
            "loss 0.024412978440523148\n",
            "loss 7.87730073928833\n",
            "\n",
            "Epoch 089 train_loss: 0.0244     val_loss 7.8773 train_acc 1.0000 val_acc 0.7500\n"
          ]
        },
        {
          "output_type": "stream",
          "name": "stderr",
          "text": [
            "epoch:   0%|          | 0/100 [00:23<?, ?it/s]"
          ]
        },
        {
          "output_type": "stream",
          "name": "stdout",
          "text": [
            "loss 0.010995849035680294\n",
            "loss 8.789536476135254\n",
            "\n",
            "Epoch 090 train_loss: 0.0110     val_loss 8.7895 train_acc 1.0000 val_acc 0.7500\n"
          ]
        },
        {
          "output_type": "stream",
          "name": "stderr",
          "text": [
            "epoch:   0%|          | 0/100 [00:23<?, ?it/s]"
          ]
        },
        {
          "output_type": "stream",
          "name": "stdout",
          "text": [
            "loss 0.047983426600694656\n",
            "loss 9.267088890075684\n",
            "\n",
            "Epoch 091 train_loss: 0.0480     val_loss 9.2671 train_acc 0.9688 val_acc 0.7500\n"
          ]
        },
        {
          "output_type": "stream",
          "name": "stderr",
          "text": [
            "epoch:   0%|          | 0/100 [00:23<?, ?it/s]"
          ]
        },
        {
          "output_type": "stream",
          "name": "stdout",
          "text": [
            "loss 0.017367735505104065\n",
            "loss 5.006094455718994\n",
            "\n",
            "Epoch 092 train_loss: 0.0174     val_loss 5.0061 train_acc 1.0000 val_acc 0.7500\n"
          ]
        },
        {
          "output_type": "stream",
          "name": "stderr",
          "text": [
            "epoch:   0%|          | 0/100 [00:24<?, ?it/s]"
          ]
        },
        {
          "output_type": "stream",
          "name": "stdout",
          "text": [
            "loss 0.01518149022012949\n",
            "loss 3.7547221183776855\n",
            "\n",
            "Epoch 093 train_loss: 0.0152     val_loss 3.7547 train_acc 1.0000 val_acc 0.7500\n"
          ]
        },
        {
          "output_type": "stream",
          "name": "stderr",
          "text": [
            "epoch:   0%|          | 0/100 [00:24<?, ?it/s]"
          ]
        },
        {
          "output_type": "stream",
          "name": "stdout",
          "text": [
            "loss 0.0056893606670200825\n",
            "loss 5.149622440338135\n",
            "\n",
            "Epoch 094 train_loss: 0.0057     val_loss 5.1496 train_acc 1.0000 val_acc 0.6250\n"
          ]
        },
        {
          "output_type": "stream",
          "name": "stderr",
          "text": [
            "epoch:   0%|          | 0/100 [00:24<?, ?it/s]"
          ]
        },
        {
          "output_type": "stream",
          "name": "stdout",
          "text": [
            "loss 0.01332294475287199\n",
            "loss 4.47370719909668\n",
            "\n",
            "Epoch 095 train_loss: 0.0133     val_loss 4.4737 train_acc 1.0000 val_acc 0.7500\n"
          ]
        },
        {
          "output_type": "stream",
          "name": "stderr",
          "text": [
            "epoch:   0%|          | 0/100 [00:24<?, ?it/s]"
          ]
        },
        {
          "output_type": "stream",
          "name": "stdout",
          "text": [
            "loss 0.03377088904380798\n",
            "loss 5.1943159103393555\n",
            "\n",
            "Epoch 096 train_loss: 0.0338     val_loss 5.1943 train_acc 0.9688 val_acc 0.7500\n"
          ]
        },
        {
          "output_type": "stream",
          "name": "stderr",
          "text": [
            "epoch:   0%|          | 0/100 [00:24<?, ?it/s]"
          ]
        },
        {
          "output_type": "stream",
          "name": "stdout",
          "text": [
            "loss 0.018847288563847542\n",
            "loss 4.263194561004639\n",
            "\n",
            "Epoch 097 train_loss: 0.0188     val_loss 4.2632 train_acc 1.0000 val_acc 0.6250\n"
          ]
        },
        {
          "output_type": "stream",
          "name": "stderr",
          "text": [
            "epoch:   0%|          | 0/100 [00:25<?, ?it/s]"
          ]
        },
        {
          "output_type": "stream",
          "name": "stdout",
          "text": [
            "loss 0.007322288118302822\n",
            "loss 3.310305118560791\n",
            "\n",
            "Epoch 098 train_loss: 0.0073     val_loss 3.3103 train_acc 1.0000 val_acc 0.6250\n"
          ]
        },
        {
          "output_type": "stream",
          "name": "stderr",
          "text": [
            "epoch:   0%|          | 0/100 [00:25<?, ?it/s]"
          ]
        },
        {
          "output_type": "stream",
          "name": "stdout",
          "text": [
            "loss 0.07193884998559952\n",
            "loss 3.108611822128296\n",
            "\n",
            "Epoch 099 train_loss: 0.0719     val_loss 3.1086 train_acc 0.9688 val_acc 0.6250\n"
          ]
        },
        {
          "output_type": "stream",
          "name": "stderr",
          "text": [
            "epoch:   0%|          | 0/100 [00:25<?, ?it/s]"
          ]
        },
        {
          "output_type": "stream",
          "name": "stdout",
          "text": [
            "loss 0.009528807364404202\n",
            "loss 3.656662940979004\n",
            "\n",
            "Epoch 100 train_loss: 0.0095     val_loss 3.6567 train_acc 1.0000 val_acc 0.6250\n"
          ]
        },
        {
          "output_type": "stream",
          "name": "stderr",
          "text": [
            "\n"
          ]
        }
      ],
      "source": [
        "from itertools import chain\n",
        "\n",
        "model.fc = torch.nn.Linear(512, 2, bias=True)\n",
        "\n",
        "for param in model.parameters():\n",
        "    param.requires_grad = False\n",
        "\n",
        "for param in model.layer4.parameters():\n",
        "    param.requires_grad = True\n",
        "\n",
        "optimizer = torch.optim.AdamW(chain(\n",
        "    model.layer4.parameters(), model.fc.parameters()\n",
        "))\n",
        "\n",
        "for param in model.fc.parameters():\n",
        "    param.requires_grad = True\n",
        "\n",
        "# optimizer = torch.optim.AdamW(model.fc.parameters())\n",
        "optimizer = torch.optim.Adam([{'params': model.fc.parameters(), 'lr': 0.0001, 'weight_decay': 0.01},\n",
        "                              {'params': model.layer4.parameters(), 'lr': 0.001, 'weight_decay': 0.01}],\n",
        "                             betas=(0.9, 0.999))\n",
        "\n",
        "model = model.to(DEVICE)\n",
        "\n",
        "criterion = torch.nn.CrossEntropyLoss()\n",
        "\n",
        "history = train(model, train_loader, val_loader, optimizer, criterion, 100)"
      ]
    },
    {
      "cell_type": "code",
      "source": [
        "eval_epoch(model, val_loader, criterion)"
      ],
      "metadata": {
        "colab": {
          "base_uri": "https://localhost:8080/"
        },
        "id": "pIGjMsnUZahZ",
        "outputId": "01b12260-5266-49a6-ded2-1e98ce9a9938"
      },
      "execution_count": 126,
      "outputs": [
        {
          "output_type": "stream",
          "name": "stdout",
          "text": [
            "loss 6.08627986907959\n"
          ]
        },
        {
          "output_type": "execute_result",
          "data": {
            "text/plain": [
              "(6.08627986907959, tensor(0.6250, device='cuda:0', dtype=torch.float64))"
            ]
          },
          "metadata": {},
          "execution_count": 126
        }
      ]
    },
    {
      "cell_type": "code",
      "source": [
        "loss, acc, val_loss, val_acc = zip(*history)"
      ],
      "metadata": {
        "id": "lrofhhxHaWAh"
      },
      "execution_count": 127,
      "outputs": []
    },
    {
      "cell_type": "code",
      "source": [
        "import matplotlib.pyplot as plt\n",
        "\n",
        "plt.figure(figsize=(15, 9))\n",
        "plt.plot(loss, label=\"train_loss\")\n",
        "plt.plot(val_loss, label=\"val_loss\")\n",
        "plt.legend(loc='best')\n",
        "plt.xlabel(\"epochs\")\n",
        "plt.ylabel(\"loss\")\n",
        "plt.show()"
      ],
      "metadata": {
        "colab": {
          "base_uri": "https://localhost:8080/",
          "height": 649
        },
        "id": "zPLyk3n4d3o3",
        "outputId": "9468a455-95ad-4ae3-b22f-c0d08febfbe5"
      },
      "execution_count": 128,
      "outputs": [
        {
          "output_type": "display_data",
          "data": {
            "text/plain": [
              "<Figure size 1500x900 with 1 Axes>"
            ],
            "image/png": "[encoded data removed]"
          },
          "metadata": {}
        }
      ]
    },
    {
      "cell_type": "code",
      "source": [
        "def predict(model, test_loader):\n",
        "    with torch.no_grad():\n",
        "        logits = []\n",
        "        filenames = []\n",
        "\n",
        "        for batch in test_loader:\n",
        "            inputs, names = batch  # Разделяем батч на изображения и имена файлов\n",
        "            inputs = inputs.to(DEVICE)  # Переносим изображения на устройство (GPU или CPU)\n",
        "            model.eval()\n",
        "            outputs = model(inputs).cpu()  # Получаем предсказания модели\n",
        "            logits.append(outputs)\n",
        "            filenames.extend(names)  # Сохраняем имена файлов\n",
        "\n",
        "    # Объединяем все предсказания и применяем softmax\n",
        "    probs = torch.nn.functional.softmax(torch.cat(logits), dim=-1).numpy()\n",
        "    return probs, filenames"
      ],
      "metadata": {
        "id": "ZWAi2TPfeDfy"
      },
      "execution_count": 143,
      "outputs": []
    },
    {
      "cell_type": "code",
      "source": [
        "probs, filenames = predict(model, test_loader)"
      ],
      "metadata": {
        "id": "yGulAHEjkk9t"
      },
      "execution_count": 147,
      "outputs": []
    },
    {
      "cell_type": "code",
      "source": [
        "filenames[:5]"
      ],
      "metadata": {
        "colab": {
          "base_uri": "https://localhost:8080/"
        },
        "id": "0VkMOaUHlLNW",
        "outputId": "b3321df0-1938-4762-fcaa-057c520c9b75"
      },
      "execution_count": 157,
      "outputs": [
        {
          "output_type": "execute_result",
          "data": {
            "text/plain": [
              "['0223.jpg', '0325.jpg', '0735.jpg', '0504.jpg', '0397.jpg']"
            ]
          },
          "metadata": {},
          "execution_count": 157
        }
      ]
    },
    {
      "cell_type": "code",
      "source": [
        "import os\n",
        "import torch\n",
        "import csv\n",
        "from PIL import Image\n",
        "from torchvision import transforms\n",
        "\n",
        "def prepare_submission(model, folder_path, output_csv='/kaggle/working/submission.csv'):\n",
        "    # Трансформации для изображений\n",
        "    transform = transforms.Compose([\n",
        "        transforms.Resize((224, 224)),  # Изменение размера изображений\n",
        "        transforms.ToTensor(),  # Преобразование в тензор\n",
        "        transforms.Normalize([0.485, 0.456, 0.406], [0.229, 0.224, 0.225])  # Нормализация\n",
        "    ])\n",
        "\n",
        "    # Списки для хранения данных\n",
        "    image_tensors = []  # Тензоры изображений\n",
        "    image_filenames = []  # Имена файлов (айди)\n",
        "\n",
        "    # Сортируем файлы по имени (айди)\n",
        "    for filename in sorted(os.listdir(folder_path)):\n",
        "        if filename.endswith(('.png', '.jpg', '.jpeg')):  # Проверяем формат файла\n",
        "            img_path = os.path.join(folder_path, filename)\n",
        "            image = Image.open(img_path).convert('RGB')  # Открываем изображение и конвертируем в RGB\n",
        "            image_tensor = transform(image)  # Применяем трансформации\n",
        "            image_tensors.append(image_tensor)\n",
        "            image_filenames.append(os.path.splitext(filename)[0])  # Извлекаем айди (без расширения)\n",
        "\n",
        "    # Объединяем тензоры в один батч и переносим на устройство (GPU или CPU)\n",
        "    image_tensors = torch.stack(image_tensors).to(DEVICE)\n",
        "\n",
        "    # Получаем предсказания модели\n",
        "    with torch.no_grad():\n",
        "        output = torch.argmax(model(image_tensors), dim=1)  # Предсказанные классы (0 или 1)\n",
        "\n",
        "    # Сохраняем результаты в CSV-файл\n",
        "    with open(output_csv, mode='w', newline='') as file:\n",
        "        writer = csv.writer(file)\n",
        "        writer.writerow([\"id\", \"label\"])  # Заголовок CSV\n",
        "\n",
        "        # Записываем айди и метки\n",
        "        for filename, label in zip(image_filenames, output):\n",
        "            label_text = \"cleaned\" if label.item() == 0 else \"dirty\"  # Преобразуем метку в текст\n",
        "            writer.writerow([filename, label_text])\n",
        "    print(f\"Submission file saved to {output_csv}\")\n",
        "\n",
        "# Подготовка submission-файла\n",
        "model.eval()\n",
        "test_folder_path = \"./plates/test\"\n",
        "results_root = \"./\"\n",
        "os.makedirs(results_root, exist_ok=True)\n",
        "prepare_submission(model, test_folder_path, output_csv=f\"{results_root}/submission.csv\")\n",
        "print(f\"Submission ready in `{results_root}/submission.csv`\")"
      ],
      "metadata": {
        "colab": {
          "base_uri": "https://localhost:8080/"
        },
        "id": "8zGdKOi6q83B",
        "outputId": "f95bd2e2-ed83-4f8e-a473-e769832a7ab3"
      },
      "execution_count": 162,
      "outputs": [
        {
          "output_type": "stream",
          "name": "stdout",
          "text": [
            "Submission file saved to .//submission.csv\n",
            "Submission ready in `.//submission.csv`\n"
          ]
        }
      ]
    },
    {
      "cell_type": "code",
      "source": [
        "import pandas as pd\n",
        "\n",
        "# Предположим, что probs и filenames уже получены\n",
        "probs, filenames = predict(model, test_loader)\n",
        "\n",
        "# Извлекаем номера (ID) из имен файлов\n",
        "ids = [filename.split('.')[0] for filename in filenames]\n",
        "\n",
        "# Создаем DataFrame с результатами\n",
        "results = pd.DataFrame({\n",
        "    'id': ids,  # Номера (ID)\n",
        "    'label': probs.argmax(axis=1)  # Предсказанный класс (0 или 1)\n",
        "})\n",
        "\n",
        "# Сортируем DataFrame по айди (как числам)\n",
        "results = results.iloc[results['id'].astype(int).argsort()]\n",
        "\n",
        "# Сохраняем результаты в CSV-файл\n",
        "results.to_csv('predictions.csv', index=False)"
      ],
      "metadata": {
        "id": "7YdGSu5NnFt8"
      },
      "execution_count": 161,
      "outputs": []
    },
    {
      "cell_type": "code",
      "source": [],
      "metadata": {
        "id": "dbB4fNEyn7lG"
      },
      "execution_count": 160,
      "outputs": []
    },
    {
      "cell_type": "code",
      "source": [
        "results"
      ],
      "metadata": {
        "colab": {
          "base_uri": "https://localhost:8080/",
          "height": 424
        },
        "id": "hJZwKYkUn9e8",
        "outputId": "554e7559-e341-436f-8ed8-967f4287a810"
      },
      "execution_count": 156,
      "outputs": [
        {
          "output_type": "execute_result",
          "data": {
            "text/plain": [
              "       id  label\n",
              "0    0223      1\n",
              "1    0325      0\n",
              "2    0735      0\n",
              "3    0504      1\n",
              "4    0397      1\n",
              "..    ...    ...\n",
              "739  0554      1\n",
              "740  0004      1\n",
              "741  0699      1\n",
              "742  0611      1\n",
              "743  0668      1\n",
              "\n",
              "[744 rows x 2 columns]"
            ],
            "text/html": [
              "\n",
              "  <div id=\"df-8192f2fe-3cbf-43de-8269-15d952c92fc3\" class=\"colab-df-container\">\n",
              "    <div>\n",
              "<style scoped>\n",
              "    .dataframe tbody tr th:only-of-type {\n",
              "        vertical-align: middle;\n",
              "    }\n",
              "\n",
              "    .dataframe tbody tr th {\n",
              "        vertical-align: top;\n",
              "    }\n",
              "\n",
              "    .dataframe thead th {\n",
              "        text-align: right;\n",
              "    }\n",
              "</style>\n",
              "<table border=\"1\" class=\"dataframe\">\n",
              "  <thead>\n",
              "    <tr style=\"text-align: right;\">\n",
              "      <th></th>\n",
              "      <th>id</th>\n",
              "      <th>label</th>\n",
              "    </tr>\n",
              "  </thead>\n",
              "  <tbody>\n",
              "    <tr>\n",
              "      <th>0</th>\n",
              "      <td>0223</td>\n",
              "      <td>1</td>\n",
              "    </tr>\n",
              "    <tr>\n",
              "      <th>1</th>\n",
              "      <td>0325</td>\n",
              "      <td>0</td>\n",
              "    </tr>\n",
              "    <tr>\n",
              "      <th>2</th>\n",
              "      <td>0735</td>\n",
              "      <td>0</td>\n",
              "    </tr>\n",
              "    <tr>\n",
              "      <th>3</th>\n",
              "      <td>0504</td>\n",
              "      <td>1</td>\n",
              "    </tr>\n",
              "    <tr>\n",
              "      <th>4</th>\n",
              "      <td>0397</td>\n",
              "      <td>1</td>\n",
              "    </tr>\n",
              "    <tr>\n",
              "      <th>...</th>\n",
              "      <td>...</td>\n",
              "      <td>...</td>\n",
              "    </tr>\n",
              "    <tr>\n",
              "      <th>739</th>\n",
              "      <td>0554</td>\n",
              "      <td>1</td>\n",
              "    </tr>\n",
              "    <tr>\n",
              "      <th>740</th>\n",
              "      <td>0004</td>\n",
              "      <td>1</td>\n",
              "    </tr>\n",
              "    <tr>\n",
              "      <th>741</th>\n",
              "      <td>0699</td>\n",
              "      <td>1</td>\n",
              "    </tr>\n",
              "    <tr>\n",
              "      <th>742</th>\n",
              "      <td>0611</td>\n",
              "      <td>1</td>\n",
              "    </tr>\n",
              "    <tr>\n",
              "      <th>743</th>\n",
              "      <td>0668</td>\n",
              "      <td>1</td>\n",
              "    </tr>\n",
              "  </tbody>\n",
              "</table>\n",
              "<p>744 rows × 2 columns</p>\n",
              "</div>\n",
              "    <div class=\"colab-df-buttons\">\n",
              "\n",
              "  <div class=\"colab-df-container\">\n",
              "    <button class=\"colab-df-convert\" onclick=\"convertToInteractive('df-8192f2fe-3cbf-43de-8269-15d952c92fc3')\"\n",
              "            title=\"Convert this dataframe to an interactive table.\"\n",
              "            style=\"display:none;\">\n",
              "\n",
              "  <svg xmlns=\"http://www.w3.org/2000/svg\" height=\"24px\" viewBox=\"0 -960 960 960\">\n",
              "    <path d=\"M120-120v-720h720v720H120Zm60-500h600v-160H180v160Zm220 220h160v-160H400v160Zm0 220h160v-160H400v160ZM180-400h160v-160H180v160Zm440 0h160v-160H620v160ZM180-180h160v-160H180v160Zm440 0h160v-160H620v160Z\"/>\n",
              "  </svg>\n",
              "    </button>\n",
              "\n",
              "  <style>\n",
              "    .colab-df-container {\n",
              "      display:flex;\n",
              "      gap: 12px;\n",
              "    }\n",
              "\n",
              "    .colab-df-convert {\n",
              "      background-color: #E8F0FE;\n",
              "      border: none;\n",
              "      border-radius: 50%;\n",
              "      cursor: pointer;\n",
              "      display: none;\n",
              "      fill: #1967D2;\n",
              "      height: 32px;\n",
              "      padding: 0 0 0 0;\n",
              "      width: 32px;\n",
              "    }\n",
              "\n",
              "    .colab-df-convert:hover {\n",
              "      background-color: #E2EBFA;\n",
              "      box-shadow: 0px 1px 2px rgba(60, 64, 67, 0.3), 0px 1px 3px 1px rgba(60, 64, 67, 0.15);\n",
              "      fill: #174EA6;\n",
              "    }\n",
              "\n",
              "    .colab-df-buttons div {\n",
              "      margin-bottom: 4px;\n",
              "    }\n",
              "\n",
              "    [theme=dark] .colab-df-convert {\n",
              "      background-color: #3B4455;\n",
              "      fill: #D2E3FC;\n",
              "    }\n",
              "\n",
              "    [theme=dark] .colab-df-convert:hover {\n",
              "      background-color: #434B5C;\n",
              "      box-shadow: 0px 1px 3px 1px rgba(0, 0, 0, 0.15);\n",
              "      filter: drop-shadow(0px 1px 2px rgba(0, 0, 0, 0.3));\n",
              "      fill: #FFFFFF;\n",
              "    }\n",
              "  </style>\n",
              "\n",
              "    <script>\n",
              "      const buttonEl =\n",
              "        document.querySelector('#df-8192f2fe-3cbf-43de-8269-15d952c92fc3 button.colab-df-convert');\n",
              "      buttonEl.style.display =\n",
              "        google.colab.kernel.accessAllowed ? 'block' : 'none';\n",
              "\n",
              "      async function convertToInteractive(key) {\n",
              "        const element = document.querySelector('#df-8192f2fe-3cbf-43de-8269-15d952c92fc3');\n",
              "        const dataTable =\n",
              "          await google.colab.kernel.invokeFunction('convertToInteractive',\n",
              "                                                    [key], {});\n",
              "        if (!dataTable) return;\n",
              "\n",
              "        const docLinkHtml = 'Like what you see? Visit the ' +\n",
              "          '<a target=\"_blank\" href=https://colab.research.google.com/notebooks/data_table.ipynb>data table notebook</a>'\n",
              "          + ' to learn more about interactive tables.';\n",
              "        element.innerHTML = '';\n",
              "        dataTable['output_type'] = 'display_data';\n",
              "        await google.colab.output.renderOutput(dataTable, element);\n",
              "        const docLink = document.createElement('div');\n",
              "        docLink.innerHTML = docLinkHtml;\n",
              "        element.appendChild(docLink);\n",
              "      }\n",
              "    </script>\n",
              "  </div>\n",
              "\n",
              "\n",
              "<div id=\"df-6715f618-eda5-468a-8629-7a1d5fba87f7\">\n",
              "  <button class=\"colab-df-quickchart\" onclick=\"quickchart('df-6715f618-eda5-468a-8629-7a1d5fba87f7')\"\n",
              "            title=\"Suggest charts\"\n",
              "            style=\"display:none;\">\n",
              "\n",
              "<svg xmlns=\"http://www.w3.org/2000/svg\" height=\"24px\"viewBox=\"0 0 24 24\"\n",
              "     width=\"24px\">\n",
              "    <g>\n",
              "        <path d=\"M19 3H5c-1.1 0-2 .9-2 2v14c0 1.1.9 2 2 2h14c1.1 0 2-.9 2-2V5c0-1.1-.9-2-2-2zM9 17H7v-7h2v7zm4 0h-2V7h2v10zm4 0h-2v-4h2v4z\"/>\n",
              "    </g>\n",
              "</svg>\n",
              "  </button>\n",
              "\n",
              "<style>\n",
              "  .colab-df-quickchart {\n",
              "      --bg-color: #E8F0FE;\n",
              "      --fill-color: #1967D2;\n",
              "      --hover-bg-color: #E2EBFA;\n",
              "      --hover-fill-color: #174EA6;\n",
              "      --disabled-fill-color: #AAA;\n",
              "      --disabled-bg-color: #DDD;\n",
              "  }\n",
              "\n",
              "  [theme=dark] .colab-df-quickchart {\n",
              "      --bg-color: #3B4455;\n",
              "      --fill-color: #D2E3FC;\n",
              "      --hover-bg-color: #434B5C;\n",
              "      --hover-fill-color: #FFFFFF;\n",
              "      --disabled-bg-color: #3B4455;\n",
              "      --disabled-fill-color: #666;\n",
              "  }\n",
              "\n",
              "  .colab-df-quickchart {\n",
              "    background-color: var(--bg-color);\n",
              "    border: none;\n",
              "    border-radius: 50%;\n",
              "    cursor: pointer;\n",
              "    display: none;\n",
              "    fill: var(--fill-color);\n",
              "    height: 32px;\n",
              "    padding: 0;\n",
              "    width: 32px;\n",
              "  }\n",
              "\n",
              "  .colab-df-quickchart:hover {\n",
              "    background-color: var(--hover-bg-color);\n",
              "    box-shadow: 0 1px 2px rgba(60, 64, 67, 0.3), 0 1px 3px 1px rgba(60, 64, 67, 0.15);\n",
              "    fill: var(--button-hover-fill-color);\n",
              "  }\n",
              "\n",
              "  .colab-df-quickchart-complete:disabled,\n",
              "  .colab-df-quickchart-complete:disabled:hover {\n",
              "    background-color: var(--disabled-bg-color);\n",
              "    fill: var(--disabled-fill-color);\n",
              "    box-shadow: none;\n",
              "  }\n",
              "\n",
              "  .colab-df-spinner {\n",
              "    border: 2px solid var(--fill-color);\n",
              "    border-color: transparent;\n",
              "    border-bottom-color: var(--fill-color);\n",
              "    animation:\n",
              "      spin 1s steps(1) infinite;\n",
              "  }\n",
              "\n",
              "  @keyframes spin {\n",
              "    0% {\n",
              "      border-color: transparent;\n",
              "      border-bottom-color: var(--fill-color);\n",
              "      border-left-color: var(--fill-color);\n",
              "    }\n",
              "    20% {\n",
              "      border-color: transparent;\n",
              "      border-left-color: var(--fill-color);\n",
              "      border-top-color: var(--fill-color);\n",
              "    }\n",
              "    30% {\n",
              "      border-color: transparent;\n",
              "      border-left-color: var(--fill-color);\n",
              "      border-top-color: var(--fill-color);\n",
              "      border-right-color: var(--fill-color);\n",
              "    }\n",
              "    40% {\n",
              "      border-color: transparent;\n",
              "      border-right-color: var(--fill-color);\n",
              "      border-top-color: var(--fill-color);\n",
              "    }\n",
              "    60% {\n",
              "      border-color: transparent;\n",
              "      border-right-color: var(--fill-color);\n",
              "    }\n",
              "    80% {\n",
              "      border-color: transparent;\n",
              "      border-right-color: var(--fill-color);\n",
              "      border-bottom-color: var(--fill-color);\n",
              "    }\n",
              "    90% {\n",
              "      border-color: transparent;\n",
              "      border-bottom-color: var(--fill-color);\n",
              "    }\n",
              "  }\n",
              "</style>\n",
              "\n",
              "  <script>\n",
              "    async function quickchart(key) {\n",
              "      const quickchartButtonEl =\n",
              "        document.querySelector('#' + key + ' button');\n",
              "      quickchartButtonEl.disabled = true;  // To prevent multiple clicks.\n",
              "      quickchartButtonEl.classList.add('colab-df-spinner');\n",
              "      try {\n",
              "        const charts = await google.colab.kernel.invokeFunction(\n",
              "            'suggestCharts', [key], {});\n",
              "      } catch (error) {\n",
              "        console.error('Error during call to suggestCharts:', error);\n",
              "      }\n",
              "      quickchartButtonEl.classList.remove('colab-df-spinner');\n",
              "      quickchartButtonEl.classList.add('colab-df-quickchart-complete');\n",
              "    }\n",
              "    (() => {\n",
              "      let quickchartButtonEl =\n",
              "        document.querySelector('#df-6715f618-eda5-468a-8629-7a1d5fba87f7 button');\n",
              "      quickchartButtonEl.style.display =\n",
              "        google.colab.kernel.accessAllowed ? 'block' : 'none';\n",
              "    })();\n",
              "  </script>\n",
              "</div>\n",
              "    </div>\n",
              "  </div>\n"
            ],
            "application/vnd.google.colaboratory.intrinsic+json": {
              "type": "dataframe",
              "variable_name": "results",
              "summary": "{\n  \"name\": \"results\",\n  \"rows\": 744,\n  \"fields\": [\n    {\n      \"column\": \"id\",\n      \"properties\": {\n        \"dtype\": \"string\",\n        \"num_unique_values\": 744,\n        \"samples\": [\n          \"0038\",\n          \"0582\",\n          \"0314\"\n        ],\n        \"semantic_type\": \"\",\n        \"description\": \"\"\n      }\n    },\n    {\n      \"column\": \"label\",\n      \"properties\": {\n        \"dtype\": \"number\",\n        \"std\": 0,\n        \"min\": 0,\n        \"max\": 1,\n        \"num_unique_values\": 2,\n        \"samples\": [\n          0,\n          1\n        ],\n        \"semantic_type\": \"\",\n        \"description\": \"\"\n      }\n    }\n  ]\n}"
            }
          },
          "metadata": {},
          "execution_count": 156
        }
      ]
    },
    {
      "cell_type": "code",
      "source": [],
      "metadata": {
        "id": "_3_eU6d6ooWW"
      },
      "execution_count": null,
      "outputs": []
    }
  ],
  "metadata": {
    "kernelspec": {
      "display_name": "Python 3",
      "name": "python3"
    },
    "language_info": {
      "codemirror_mode": {
        "name": "ipython",
        "version": 3
      },
      "file_extension": ".py",
      "mimetype": "text/x-python",
      "name": "python",
      "nbconvert_exporter": "python",
      "pygments_lexer": "ipython3",
      "version": "3.12.4"
    },
    "colab": {
      "provenance": [],
      "gpuType": "T4"
    },
    "accelerator": "GPU"
  },
  "nbformat": 4,
  "nbformat_minor": 0
}